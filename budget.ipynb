{
 "cells": [
  {
   "cell_type": "raw",
   "metadata": {},
   "source": [
    "Complete the Category class in budget.py. It should be able to instantiate objects based on different budget categories like food, clothing, and entertainment. When objects are created, they are passed in the name of the category. The class should have an instance variable called ledger that is a list. The class should also contain the following methods:\n",
    "\n",
    "A deposit method that accepts an amount and description. If no description is given, it should default to an empty string. The method should append an object to the ledger list in the form of {\"amount\": amount, \"description\": description}.\n",
    "A withdraw method that is similar to the deposit method, but the amount passed in should be stored in the ledger as a negative number. If there are not enough funds, nothing should be added to the ledger. This method should return True if the withdrawal took place, and False otherwise.\n",
    "A get_balance method that returns the current balance of the budget category based on the deposits and withdrawals that have occurred.\n",
    "A transfer method that accepts an amount and another budget category as arguments. The method should add a withdrawal with the amount and the description \"Transfer to [Destination Budget Category]\". The method should then add a deposit to the other budget category with the amount and the description \"Transfer from [Source Budget Category]\". If there are not enough funds, nothing should be added to either ledgers. This method should return True if the transfer took place, and False otherwise.\n",
    "A check_funds method that accepts an amount as an argument. It returns False if the amount is greater than the balance of the budget category and returns True otherwise. This method should be used by both the withdraw method and transfer method.\n",
    "When the budget object is printed it should display:\n",
    "\n",
    "A title line of 30 characters where the name of the category is centered in a line of * characters.\n",
    "A list of the items in the ledger. Each line should show the description and amount. The first 23 characters of the description should be displayed, then the amount. The amount should be right aligned, contain two decimal places, and display a maximum of 7 characters.\n",
    "A line displaying the category total.\n",
    "Besides the Category class, create a function (ouside of the class) called create_spend_chart that takes a list of categories as an argument. It should return a string that is a bar chart.\n",
    "\n",
    "The chart should show the percentage spent in each category passed in to the function. The percentage spent should be calculated only with withdrawals and not with deposits. Down the left side of the chart should be labels 0 - 100. The \"bars\" in the bar chart should be made out of the \"o\" character. The height of each bar should be rounded down to the nearest 10. The horizontal line below the bars should go two spaces past the final bar. Each category name should be vertacally below the bar. There should be a title at the top that says \"Percentage spent by category\".\n",
    "\n",
    "This function will be tested with up to four categories."
   ]
  },
  {
   "cell_type": "code",
   "execution_count": 92,
   "metadata": {},
   "outputs": [],
   "source": [
    "class Category:\n",
    "    def __init__(self, name):\n",
    "        self.ledger = []\n",
    "        self.name = name\n",
    "        self.sum = 0        \n",
    "        \n",
    "    def __str__(self):\n",
    "        string = ('*' * (int((30 - len(self.name))/2)) + self.name + '*' * (int((30 - len(self.name))/2))) +'\\n'\n",
    "        for item in self.ledger:\n",
    "            string = string + \"{0:23}{1:7.2f}\".format(item['description'][:23], item['amount']) + '\\n'\n",
    "        string = string + \"Total: {0:.2f}\".format(self.sum)  \n",
    "        return string\n",
    "        \n",
    "    def deposit(self, amount, description=''):\n",
    "        self.ledger.append({'amount': amount, 'description': description})\n",
    "        self.sum = self.sum + amount\n",
    "        \n",
    "    def withdraw(self, amount, description=''):\n",
    "        if self.check_funds(amount):\n",
    "            self.ledger.append({'amount': - amount, 'description': description})\n",
    "            self.sum = self.sum - amount\n",
    "            return True\n",
    "        else:\n",
    "            return False\n",
    "    \n",
    "    def get_balance(self):\n",
    "        return self.sum\n",
    "            \n",
    "    def transfer(self, amount, budget_category):\n",
    "        if self.check_funds(amount):\n",
    "            self.withdraw(amount, (\"Transfer to \" + budget_category.name))\n",
    "            budget_category.deposit(amount, (\"Transfer from \" + self.name))\n",
    "            return True\n",
    "        else:\n",
    "            return False\n",
    "    \n",
    "    def check_funds(self, amount):\n",
    "        if amount > self.sum:\n",
    "            return False\n",
    "        else:\n",
    "            return True\n",
    "\n",
    "    "
   ]
  },
  {
   "cell_type": "code",
   "execution_count": 93,
   "metadata": {
    "scrolled": true
   },
   "outputs": [
    {
     "name": "stdout",
     "output_type": "stream",
     "text": [
      "*************Food*************\n",
      "initial                  25.00\n",
      "Transfer to entertainme  -1.50\n",
      "Transfer from entertain   2.45\n",
      "deposit                 100.00\n",
      "for graph               -40.00\n",
      "Total: 85.95\n",
      "***********clothing***********\n",
      "initial                 120.00\n",
      "deposit                 100.00\n",
      "for graph              -100.00\n",
      "Total: 120.00\n",
      "********entertainment********\n",
      "initial                  23.00\n",
      "Transfer from Food        1.50\n",
      "Transfer to Food         -2.45\n",
      "deposit                 100.00\n",
      "for graph               -70.00\n",
      "Total: 52.05\n"
     ]
    }
   ],
   "source": [
    "food = Category('Food')\n",
    "clothing = Category('clothing')\n",
    "entertainment = Category('entertainment')\n",
    "\n",
    "food.deposit(25, 'initial')\n",
    "clothing.deposit(120, 'initial')\n",
    "entertainment.deposit(23, 'initial')\n",
    "\n",
    "food.transfer(1.5, entertainment)\n",
    "entertainment.transfer(37.5, clothing)\n",
    "entertainment.transfer(2.45, food)\n",
    "\n",
    "food.deposit(100, 'deposit')\n",
    "clothing.deposit(100, 'deposit')\n",
    "entertainment.deposit(100, 'deposit')\n",
    "\n",
    "food.withdraw(40, 'for graph')\n",
    "clothing.withdraw(100, 'for graph')\n",
    "entertainment.withdraw(70, 'for graph')\n",
    "\n",
    "print(food)\n",
    "print(clothing)\n",
    "print(entertainment)"
   ]
  },
  {
   "cell_type": "code",
   "execution_count": 115,
   "metadata": {},
   "outputs": [],
   "source": [
    "def create_spend_chart(categories):\n",
    "    \n",
    "    spent = []\n",
    "    percent = []\n",
    "    for item in categories:\n",
    "        withdraw = 0\n",
    "        for dic in item.ledger:\n",
    "            if dic['amount'] < 0:\n",
    "                withdraw = withdraw + (- dic['amount'])\n",
    "        spent.append(withdraw)\n",
    "    for i in spent:\n",
    "        percent.append(int(round((i / sum(spent)), 2) * 100))\n",
    "     \n",
    "    string = 'Percentage spent by category' + '\\n'\n",
    "    \n",
    "    for line in range(100, -1, -10):\n",
    "        string = string + '{0:3}'.format(line) + '| ' \n",
    "        for i in percent:\n",
    "            if i >= line:\n",
    "                string = string + 'o  '\n",
    "            else:\n",
    "                string = string + '   '\n",
    "        string = string + '\\n'\n",
    "        \n",
    "    string = string + '    -' + '---' * len(categories) + '\\n'\n",
    "    \n",
    "    for line in range(0, max([len(x.name) for x in categories])):\n",
    "        string = string + '     '\n",
    "        for item in categories:\n",
    "            if len(item.name) <= line:\n",
    "                string = string + '   '\n",
    "            else:\n",
    "                string = string + item.name[line] + '  '\n",
    "        string = string + '\\n'\n",
    "        \n",
    "    return string[:-1]\n"
   ]
  },
  {
   "cell_type": "code",
   "execution_count": 119,
   "metadata": {
    "scrolled": true
   },
   "outputs": [
    {
     "name": "stdout",
     "output_type": "stream",
     "text": [
      "Percentage spent by category\n",
      "100|          \n",
      " 90|          \n",
      " 80|          \n",
      " 70|          \n",
      " 60|          \n",
      " 50|          \n",
      " 40|    o     \n",
      " 30|    o  o  \n",
      " 20|    o  o  \n",
      " 10| o  o  o  \n",
      "  0| o  o  o  \n",
      "    ----------\n",
      "     F  c  e  \n",
      "     o  l  n  \n",
      "     o  o  t  \n",
      "     d  t  e  \n",
      "        h  r  \n",
      "        i  t  \n",
      "        n  a  \n",
      "        g  i  \n",
      "           n  \n",
      "           m  \n",
      "           e  \n",
      "           n  \n",
      "           t  \n"
     ]
    }
   ],
   "source": [
    "print(create_spend_chart([food, clothing, entertainment]))"
   ]
  }
 ],
 "metadata": {
  "kernelspec": {
   "display_name": "Python 3",
   "language": "python",
   "name": "python3"
  },
  "language_info": {
   "codemirror_mode": {
    "name": "ipython",
    "version": 3
   },
   "file_extension": ".py",
   "mimetype": "text/x-python",
   "name": "python",
   "nbconvert_exporter": "python",
   "pygments_lexer": "ipython3",
   "version": "3.8.5"
  }
 },
 "nbformat": 4,
 "nbformat_minor": 4
}
