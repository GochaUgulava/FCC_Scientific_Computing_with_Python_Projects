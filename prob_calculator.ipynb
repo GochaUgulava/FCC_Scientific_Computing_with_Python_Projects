{
 "cells": [
  {
   "cell_type": "raw",
   "metadata": {},
   "source": [
    "Suppose there is a hat containing 5 blue balls, 4 red balls, and 2 green balls. What is the probability that a random draw of 4 balls will contain at least 1 red ball and 2 green balls? While it would be possible to calculate the probability using advanced mathematics, an easier way is to write a program to perform a large number of experiments to estimate an approximate probability.\n",
    "\n",
    "For this project, you will write a program to determine the approximate probability of drawing certain balls randomly from a hat.\n",
    "\n",
    "First, create a Hat class in prob_calculator.py. The class should take a variable number of arguments that specify the number of balls of each color that are in the hat. \n",
    "\n",
    "A hat will always be created with at least one ball. The arguments passed into the hat object upon creation should be converted to a contents instance variable. contents should be a list of strings containing one item for each ball in the hat. Each item in the list should be a color name representing a single ball of that color. For example, if your hat is {\"red\": 2, \"blue\": 1}, contents should be [\"red\", \"red\", \"blue\"].\n",
    "\n",
    "The Hat class should have a draw method that accepts an argument indicating the number of balls to draw from the hat. This method should remove balls at random from contents and return those balls as a list of strings. The balls should not go back into the hat during the draw, similar to an urn experiment without replacement. If the number of balls to draw exceeds the available quantity, return all the balls.\n",
    "\n",
    "Next, create an experiment function in prob_calculator.py (not inside the Hat class). This function should accept the following arguments:\n",
    "\n",
    "hat: A hat object containing balls that should be copied inside the function.\n",
    "expected_balls: An object indicating the exact group of balls to attempt to draw from the hat for the experiment. For example, to determine the probability of drawing 2 blue balls and 1 red ball from the hat, set expected_balls to {\"blue\":2, \"red\":1}.\n",
    "num_balls_drawn: The number of balls to draw out of the hat in each experiment.\n",
    "num_experiments: The number of experiments to perform. (The more experiments performed, the more accurate the approximate probability will be.)\n",
    "The experiment function should return a probability.\n",
    "\n",
    "For example, let's say that you want to determine the probability of getting at least 2 red balls and 1 green ball when you draw 5 balls from a hat containing 6 black, 4 red, and 3 green. To do this, we perform N experiments, count how many times M we get at least 2 red balls and 1 green ball, and estimate the probability as M/N. Each experiment consists of starting with a hat containing the specified balls, drawing a number of balls, and checking if we got the balls we were attempting to draw."
   ]
  },
  {
   "cell_type": "code",
   "execution_count": 109,
   "metadata": {},
   "outputs": [],
   "source": [
    "import copy\n",
    "import random\n",
    "random.seed(95)\n",
    "\n",
    "class Hat:\n",
    "    def __init__(self, **kwargs):\n",
    "        self.contents = list()\n",
    "        for key in kwargs.keys():\n",
    "            for count in range(kwargs[key]):\n",
    "                self.contents.append(key)\n",
    "                \n",
    "    def draw(self, num):\n",
    "        drawn_balls = []\n",
    "        if num >= len(self.contents):\n",
    "            drawn_balls = self.contents\n",
    "        else:\n",
    "            for i in range(num):\n",
    "                index = random.randint(0, len(self.contents)-1)\n",
    "                drawn_balls.append(self.contents.pop(index))\n",
    "        return drawn_balls\n",
    "\n",
    "    \n",
    "def experiment(hat, expected_balls, num_balls_drawn, num_experiments):\n",
    "    m = 0\n",
    "    for experiment in range(num_experiments):\n",
    "        hat_copy = copy.deepcopy(hat)\n",
    "        drawn_balls = hat_copy.draw(num_balls_drawn)\n",
    "\n",
    "        yes_flag = False\n",
    "        \n",
    "        for key in expected_balls:\n",
    "            if drawn_balls.count(key) < expected_balls[key]:\n",
    "                yes_flag = False\n",
    "                break\n",
    "            else:\n",
    "                yes_flag = True\n",
    "        if yes_flag:\n",
    "            m = m + 1\n",
    "    \n",
    "    prob = m / num_experiments\n",
    "\n",
    "    return  prob"
   ]
  },
  {
   "cell_type": "code",
   "execution_count": 98,
   "metadata": {},
   "outputs": [
    {
     "name": "stdout",
     "output_type": "stream",
     "text": [
      "['green', 'green', 'green', 'yellow', 'blue']\n",
      "['yellow', 'blue']\n",
      "4\n"
     ]
    }
   ],
   "source": [
    "hat1 = Hat(yellow=3, blue=2, green=6)\n",
    "print(hat1.draw(5))\n",
    "print(hat1.draw(2))\n",
    "print(len(hat1.contents))"
   ]
  },
  {
   "cell_type": "code",
   "execution_count": 110,
   "metadata": {},
   "outputs": [
    {
     "data": {
      "text/plain": [
       "0.269"
      ]
     },
     "execution_count": 110,
     "metadata": {},
     "output_type": "execute_result"
    }
   ],
   "source": [
    "hat = Hat(blue=3,red=2,green=6)\n",
    "experiment(hat=hat, expected_balls={\"blue\":2,\"green\":1}, num_balls_drawn=4, num_experiments=2000)"
   ]
  }
 ],
 "metadata": {
  "kernelspec": {
   "display_name": "Python 3",
   "language": "python",
   "name": "python3"
  },
  "language_info": {
   "codemirror_mode": {
    "name": "ipython",
    "version": 3
   },
   "file_extension": ".py",
   "mimetype": "text/x-python",
   "name": "python",
   "nbconvert_exporter": "python",
   "pygments_lexer": "ipython3",
   "version": "3.8.5"
  }
 },
 "nbformat": 4,
 "nbformat_minor": 4
}
