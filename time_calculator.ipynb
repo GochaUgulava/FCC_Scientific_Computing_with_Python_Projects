{
 "cells": [
  {
   "cell_type": "raw",
   "metadata": {},
   "source": [
    "Write a function named add_time that takes in two required parameters and one optional parameter:\n",
    "\n",
    "a start time in the 12-hour clock format (ending in AM or PM)\n",
    "a duration time that indicates the number of hours and minutes\n",
    "(optional) a starting day of the week, case insensitive\n",
    "The function should add the duration time to the start time and return the result.\n",
    "\n",
    "If the result will be the next day, it should show (next day) after the time. If the result will be more than one day later, it should show (n days later) after the time, where \"n\" is the number of days later.\n",
    "\n",
    "If the function is given the optional starting day of the week parameter, then the output should display the day of the week of the result. The day of the week in the output should appear after the time and before the number of days later.\n",
    "\n",
    "Do not import any Python libraries. Assume that the start times are valid times. The minutes in the duration time will be a whole number less than 60, but the hour can be any whole number."
   ]
  },
  {
   "cell_type": "code",
   "execution_count": 59,
   "metadata": {},
   "outputs": [],
   "source": [
    "def add_time(start, duration, day=None):\n",
    "    ampm = [\"AM\", \"PM\"]\n",
    "    week = ['sunday', 'monday', 'tuesday', 'wednesday', 'thursday', 'friday', 'saturday']\n",
    "    \n",
    "    start_time = start.split(' ')[0]\n",
    "    start_h = int(start_time.split(':')[0])\n",
    "    start_m = int(start_time.split(':')[1])\n",
    "    if start.split(' ')[1] == \"AM\":\n",
    "        ampm_index = 0\n",
    "    else:\n",
    "        ampm_index = 1\n",
    "    add_h = int(duration.split(':')[0])\n",
    "    add_m = int(duration.split(':')[1])\n",
    "     \n",
    "    new_m = (start_m + add_m) % 60\n",
    "    plus_to_h = (start_m + add_m) // 60\n",
    "    if new_m < 10:\n",
    "        new_m = '0' + str(new_m)\n",
    "    else:\n",
    "        new_m = str(new_m)\n",
    "    \n",
    "    new_h = (start_h + add_h + plus_to_h) % 12\n",
    "    \n",
    "    if (add_h + plus_to_h) >= (12 - start_h):\n",
    "        ampm_change_num = 1 + (add_h + plus_to_h - (12 - start_h)) // 12\n",
    "        if ampm_change_num % 2 == 1:\n",
    "            if ampm_index == 0:\n",
    "                ampm_index = 1\n",
    "            else:\n",
    "                ampm_index = 0\n",
    "    else:\n",
    "        ampm_change_num = 0\n",
    "    \n",
    "    if day != None: day_index = week.index(day.lower())\n",
    "    \n",
    "    if start.split(' ')[1] == \"PM\":\n",
    "        if ampm_change_num > 2:\n",
    "            n = ampm_change_num // 2 + 1\n",
    "            next_sign = ' (' + str(n) + ' days later)'\n",
    "            if day != None: day_index = (week.index(day.lower()) + n) % 7\n",
    "        elif ampm_change_num > 0:\n",
    "            next_sign = ' (next day)'\n",
    "            if day != None: day_index = (week.index(day.lower()) + 1) % 7\n",
    "        else:\n",
    "            next_sign = ''\n",
    "    else:\n",
    "        if ampm_change_num > 3:\n",
    "            n = ampm_change_num // 2\n",
    "            next_sign = ' (' + str(n) + ' days later)'\n",
    "            if day != None: day_index = (week.index(day.lower()) + n) % 7\n",
    "        elif ampm_change_num > 1:\n",
    "            next_sign = ' (next day)'\n",
    "            if day != None: day_index = (week.index(day.lower()) + 1) % 7\n",
    "        else:\n",
    "            next_sign = ''    \n",
    "    \n",
    "    if new_h == 0:\n",
    "        new_h = 12\n",
    "    if day == None:\n",
    "        new_time = str(new_h) + ':' + new_m + ' ' + ampm[ampm_index] + next_sign\n",
    "    else:\n",
    "        new_time = str(new_h) + ':' + new_m + ' ' + ampm[ampm_index] + ', ' + week[day_index].capitalize() + next_sign\n",
    "        \n",
    "\n",
    "    print(new_time)\n",
    "    return new_time"
   ]
  },
  {
   "cell_type": "code",
   "execution_count": 60,
   "metadata": {},
   "outputs": [
    {
     "name": "stdout",
     "output_type": "stream",
     "text": [
      "6:10 PM\n",
      "2:02 PM, Monday\n",
      "12:03 PM\n",
      "1:40 AM (next day)\n",
      "12:03 AM, Thursday (2 days later)\n",
      "7:42 AM (9 days later)\n",
      "5:42 PM, Monday\n"
     ]
    },
    {
     "data": {
      "text/plain": [
       "'5:42 PM, Monday'"
      ]
     },
     "execution_count": 60,
     "metadata": {},
     "output_type": "execute_result"
    }
   ],
   "source": [
    "add_time(\"3:00 PM\", \"3:10\")\n",
    " \n",
    "add_time(\"11:30 AM\", \"2:32\", \"Monday\")\n",
    " \n",
    "add_time(\"11:43 AM\", \"00:20\")\n",
    " \n",
    "add_time(\"10:10 PM\", \"3:30\")\n",
    " \n",
    "add_time(\"11:43 PM\", \"24:20\", \"tueSday\")\n",
    " \n",
    "add_time(\"6:30 PM\", \"205:12\")\n",
    "\n",
    "add_time(\"3:30 PM\", \"2:12\", \"Monday\")"
   ]
  }
 ],
 "metadata": {
  "kernelspec": {
   "display_name": "Python 3",
   "language": "python",
   "name": "python3"
  },
  "language_info": {
   "codemirror_mode": {
    "name": "ipython",
    "version": 3
   },
   "file_extension": ".py",
   "mimetype": "text/x-python",
   "name": "python",
   "nbconvert_exporter": "python",
   "pygments_lexer": "ipython3",
   "version": "3.8.5"
  }
 },
 "nbformat": 4,
 "nbformat_minor": 4
}
