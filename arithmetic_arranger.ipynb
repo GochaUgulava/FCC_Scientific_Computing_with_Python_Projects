{
 "cells": [
  {
   "cell_type": "raw",
   "metadata": {},
   "source": [
    "Assignment\n",
    "Students in primary school often arrange arithmetic problems vertically to make them easier to solve. \n",
    "Create a function that receives a list of strings that are arithmetic problems and returns the problems arranged vertically and side-by-side. The function should optionally take a second argument. When the second argument is set to True, the answers should be displayed.\n",
    "Rules\n",
    "The function will return the correct conversion if the supplied problems are properly formatted, otherwise, it will return a string that describes an error that is meaningful to the user.\n",
    "Situations that will return an error:\n",
    "If there are too many problems supplied to the function. The limit is five, anything more will return:\n",
    "Error: Too many problems.\n",
    "The appropriate operators the function will accept are addition and subtraction. Multiplication and division will return an error. Other operators not mentioned in this bullet point will not need to be tested. The error returned will be:\n",
    "Error: Operator must be '+' or '-'.\n",
    "Each number (operand) should only contain digits. Otherwise, the function will return:\n",
    "Error: Numbers must only contain digits.\n",
    "Each operand (aka number on each side of the operator) has a max of four digits in width. Otherwise, the error string returned will be:\n",
    "Error: Numbers cannot be more than four digits.\n",
    "If the user supplied the correct format of problems, the conversion you return will follow these rules:\n",
    "There should be a single space between the operator and the longest of the two operands, the operator will be on the same line as the second operand, both operands will be in the same order as provided (the first will be the top one and the second will be the bottom.\n",
    "Numbers should be right-aligned.\n",
    "There should be four spaces between each problem.\n",
    "There should be dashes at the bottom of each problem. The dashes should run along the entire length of each problem individually. (The example above shows what this should look like.)"
   ]
  },
  {
   "cell_type": "code",
   "execution_count": 56,
   "metadata": {},
   "outputs": [],
   "source": [
    "def arithmetic_arranger(problems_list, show_answer=False):\n",
    "    line_1, line_2, line_3, line_4 = '', '', '', ''\n",
    "    if len(problems_list) > 5:\n",
    "        return \"Error: Too many problems.\"\n",
    "    for problem_str in problems_list:\n",
    "        elements = problem_str.split(' ')\n",
    "        if elements[1] != '+' and elements[1] != '-':\n",
    "            return \"Error: Operator must be '+' or '-'\"\n",
    "        if not elements[0].isdigit() or not elements[2].isdigit():\n",
    "            return 'Error: Numbers must only contain digits.'\n",
    "        if len(elements[0]) > 4 or len(elements[2]) > 4:\n",
    "            return 'Error: Numbers cannot be more than four digits.'\n",
    "        max_len = max(len(elements[0]), len(elements[2]))\n",
    "        elements[0] = \" \" * (max_len - len(elements[0])) + elements[0]\n",
    "        elements[2] = \" \" * (max_len - len(elements[2])) + elements[2]\n",
    "        line_1 = line_1 + \"  \" + elements[0] + \"    \"\n",
    "        line_2 = line_2 + elements[1] + \" \" + elements[2] + \"    \"\n",
    "        line_3 = line_3 + \"-\" * (max_len + 2) + \"    \"\n",
    "        answer = eval(problem_str)\n",
    "        line_4 = line_4 + \" \" * (max_len + 2 - len(str(answer))) + str(answer) + \"    \"\n",
    "           \n",
    "    if show_answer:\n",
    "        arranged_problems = line_1.rstrip() + '\\n' + line_2.rstrip() + '\\n' + line_3.rstrip() + '\\n' + line_4.rstrip()\n",
    "    else:\n",
    "        arranged_problems = line_1.rstrip() + '\\n' + line_2.rstrip() + '\\n' + line_3.rstrip()\n",
    "    \n",
    "    return arranged_problems"
   ]
  },
  {
   "cell_type": "code",
   "execution_count": 57,
   "metadata": {},
   "outputs": [
    {
     "name": "stdout",
     "output_type": "stream",
     "text": [
      "    3      3801      45      123\n",
      "+ 855    -    2    + 43    +  49\n",
      "-----    ------    ----    -----\n",
      "\n"
     ]
    }
   ],
   "source": [
    "print(arithmetic_arranger([\"3 + 855\", \"3801 - 2\", \"45 + 43\", \"123 + 49\"]))"
   ]
  }
 ],
 "metadata": {
  "kernelspec": {
   "display_name": "Python 3",
   "language": "python",
   "name": "python3"
  },
  "language_info": {
   "codemirror_mode": {
    "name": "ipython",
    "version": 3
   },
   "file_extension": ".py",
   "mimetype": "text/x-python",
   "name": "python",
   "nbconvert_exporter": "python",
   "pygments_lexer": "ipython3",
   "version": "3.8.5"
  }
 },
 "nbformat": 4,
 "nbformat_minor": 4
}
